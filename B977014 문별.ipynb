{
 "cells": [
  {
   "cell_type": "code",
   "execution_count": 5,
   "id": "82c79097",
   "metadata": {},
   "outputs": [],
   "source": [
    "%matplotlib inline"
   ]
  },
  {
   "cell_type": "code",
   "execution_count": 6,
   "id": "1a6b8a9c",
   "metadata": {},
   "outputs": [],
   "source": [
    "import torch\n",
    "import torchvision\n",
    "import torchvision.transforms as transforms\n",
    "\n",
    "#torchvision을 사용해 cifar 10을 불러오는 과정\n",
    "#import torch : 신경망 구축 및 훈련을 위해 pytorch 라이브러리를 가져옴\n",
    "#import torchvision : pytorch 패키지인 torchvision 라이브러리를 가져옴 \n",
    "# -> mnist, cifar-10 등 인기있는 데이터 셋 등 사전 훈련된 모델이 포함됨\n",
    "#import torchvision.transforms as transforms -> 입력 데이터에 적용할 수 있는\n",
    "#공통 이미지 변환 셋을 제공하는 torchvision에서 변환 모듈을 가져온다;\n",
    "#크기조정, 자르기, 뒤집기 및 정규화와 같은 작업이 포함되며 신경망 훈련 또는\n",
    "#테스트를 위해 데이터를 준비하는데 사용할 수 있음\n",
    "\n",
    "#torchvision 데이터셋의 출력은 [0,1] 범위를 갖는 이미지 -> [-1,1]의 범위로 정규화된 tensor로 변환"
   ]
  },
  {
   "cell_type": "code",
   "execution_count": 8,
   "id": "4d6a0352",
   "metadata": {},
   "outputs": [],
   "source": [
    "import ssl\n",
    "ssl._create_default_https_context = ssl._create_unverified_context"
   ]
  },
  {
   "cell_type": "code",
   "execution_count": 9,
   "id": "a4dd2f93",
   "metadata": {},
   "outputs": [
    {
     "name": "stdout",
     "output_type": "stream",
     "text": [
      "Downloading https://www.cs.toronto.edu/~kriz/cifar-10-python.tar.gz to ./data\\cifar-10-python.tar.gz\n"
     ]
    },
    {
     "name": "stderr",
     "output_type": "stream",
     "text": [
      "100%|███████████████████████████████████████████████████████████████| 170498071/170498071 [00:19<00:00, 8873658.54it/s]\n"
     ]
    },
    {
     "name": "stdout",
     "output_type": "stream",
     "text": [
      "Extracting ./data\\cifar-10-python.tar.gz to ./data\n",
      "Files already downloaded and verified\n"
     ]
    }
   ],
   "source": [
    "transform = transforms.Compose(\n",
    "[transforms.ToTensor(), transforms.Normalize((0.5, 0.5, 0.5), (0.5, 0.5, 0.5))])\n",
    "\n",
    "#transforms.ToTensor() -> 입력 데이터를 신경망에서 처리할 수 있는 pytorch tensor로 변환\n",
    "#[0,255] 범위에서 [0,1] 범위까지 픽셀 값의 크기를 조정\n",
    "#transforms.Normalize() -> 평균(0.5,0.5,0.5)를 빼고 표준 편차(0.5,0.5,0.5)로 나누어\n",
    "#입력 데이터를 정규화\n",
    "#입력 데이터의 평균 및 단위 분산이 0이 되어 신경망의 성능과 안정성을 개선하는데 도움이 됨\n",
    "\n",
    "#두개의 테스트 셋에 동일한 변환 파이프라인을 적용해 입력 데이터가 일관된 속성을 갖도록 보장\n",
    "\n",
    "batch_size = 4\n",
    "\n",
    "trainset = torchvision.datasets.CIFAR10(root='./data', train = True, download = True, transform = transform)\n",
    "\n",
    "trainloader = torch.utils.data.DataLoader(trainset, batch_size = batch_size, shuffle = True,num_workers = 2)\n",
    "\n",
    "testset = torchvision.datasets.CIFAR10(root='./data', train = False, download = True, transform = transform)\n",
    "\n",
    "testloader = torch.utils.data.DataLoader(testset, batch_size = batch_size, shuffle = False, num_workers = 0)\n",
    "\n",
    "classes = ('plane', 'car', 'bird', 'cat', 'deer', 'dog', 'frog', 'horse', 'ship', 'truck')\n",
    "\n",
    "#배치 크기를 4로 정의 : 각 반복에서 로드되고 처리될 이미지 수\n",
    "#cifar10의 데이터 셋을 다운로드 하고 두 개의 데이터 셋(trainset / testset)을 생성\n",
    "#trainset은 모델 학습에 사용, testset은 모델 성능 평가에 사용\n",
    "#이미지를 tensor로 변환하고 픽셀값을 정규화하는 것을 포함하는 두 데이터셋에\n",
    "#이전에 정의된 변환 파이프라인을 적용\n",
    "#pytorch의 dataloader 클래스를 사용하여 두 데이터 셋에 대한 데이터 로더 생성\n",
    "#trainloader 개체에 대해 shuffle 매개 변수를 true로 설정하면 훈련중에(?) 각 배치의 샘플 순서가 섞임\n",
    "#모델 성능과 안정성을 개선하는데 도움이 됨\n",
    "#cifar-10 데이터셋에 대한 클래스 목록 정의"
   ]
  },
  {
   "cell_type": "code",
   "execution_count": 10,
   "id": "e9461af7",
   "metadata": {},
   "outputs": [],
   "source": [
    "import matplotlib.pyplot as plt\n",
    "import numpy as np\n",
    "\n",
    "#데이터를 시각화하는데 필요한 라이브러리를 가져옴\n",
    "#pyplot 모듈 -> 선 도표, 산점도, 히스토그램 및 기타 유형의 도표를 작성하기 위한 도구 제공\n",
    "#numpy 라이브러리 -> 수치 계산을 위해 배열, 행렬 및 기타 수학적 개체 작업을 위한 도구 제공"
   ]
  },
  {
   "cell_type": "code",
   "execution_count": 11,
   "id": "39034eba",
   "metadata": {},
   "outputs": [],
   "source": [
    "#이미지를 보여주기 위한 함수\n",
    "\n",
    "def imshow(img):\n",
    "    img = img / 2 + 0.5\n",
    "    npimg = img.numpy()\n",
    "    plt.imshow(np.transpose(npimg, (1,2,0)))\n",
    "    plt.show()\n",
    "    \n",
    "#pytorch 텐서(이미지)를 입력으로 사용함\n",
    "#이미지의 픽셀 값을 정규화 -> [-1,1] 범위의 픽셀 값이 matplotlib에서 이미지를 표시하기 위한\n",
    "#예상 범위인 [0,1] 범위로 변환됨\n",
    "#numpy배열을 변환하여 차원을 CHW -> HWC로 재정렬 (C:channel수, H:높이, W:너비)\n",
    "#show() 함수를 사용하여 플롯 표시"
   ]
  },
  {
   "cell_type": "code",
   "execution_count": 12,
   "id": "17ac1a19",
   "metadata": {},
   "outputs": [],
   "source": [
    "#학습용 이미지를 무작위로 가져옴\n",
    "\n",
    "detaiter = iter(trainloader)\n",
    "images, labels = next(detaiter)\n",
    "\n",
    "#iter() : trainloader 데이터 로더에 대한 반복자를 만든 후 next() 함수를 사용해\n",
    "#반복자에서 첫 번재 데이터 배치를 가져옴"
   ]
  },
  {
   "cell_type": "code",
   "execution_count": 13,
   "id": "67c6d7fb",
   "metadata": {},
   "outputs": [
    {
     "data": {
      "image/png": "[encoded data removed]",
      "text/plain": [
       "<Figure size 640x480 with 1 Axes>"
      ]
     },
     "metadata": {},
     "output_type": "display_data"
    },
    {
     "name": "stdout",
     "output_type": "stream",
     "text": [
      "ship  plane bird  truck\n"
     ]
    }
   ],
   "source": [
    "#이미지 보이기\n",
    "imshow(torchvision.utils.make_grid(images))\n",
    "#정답 출력\n",
    "print(' '.join(f'{classes[labels[j]]:5s}' for j in range(batch_size)))\n",
    "\n",
    "#grid() : 이미지의 텐서를 가져와 imshow()를 사용하여 표시할 수 있는 이미지 그리드를 생성하는 함수\n",
    "#결과 그리드는 이미지 사이에 패딩이 있고 표시 영역에 맞게 크기가 조정됨\n",
    "#패딩 : convolusion 후 아웃풋 이미지의 크기 유지 및 edge쪽 픽셀 정보를 더 잘 이용하기 위해 사용\n",
    "#cifar-10 훈련셋의 첫 번째 데이터 배치를 시각적 및 텍스트로 표현\n",
    "#기계학습모델을 교육하기 전에 데이터가 올바르게 로드되고 처리되고 있는지 확인하는데 사용가능"
   ]
  },
  {
   "cell_type": "code",
   "execution_count": 14,
   "id": "a471f489",
   "metadata": {},
   "outputs": [],
   "source": [
    "import torch.nn as nn\n",
    "import torch.nn.functional as F\n",
    "\n",
    "#nn은 신경망 모델을 구성하기 위한 미리 정의된 레이어 및 빌딩 블록 집합을 제공\n",
    "#일반적으로 복잡한 신경망 아키텍처를 정의하는데 사용\n",
    "#nn.functional은 사용자 지정 레이어를 정의하는 데 사용할 수 있는 일반적으로 사용되는\n",
    "#활성화 함수 및 작업에 대한 기능 인터페이스 집합 제공\n",
    "#학습 가능한 매개변수가 없는 사용자 지정 활성화 함수 및 기타 작업을 정의하는데 사용\n",
    "#데이터 셋에 대한 훈련을 위한 신경망 아키텍처를 정의하는데 사용"
   ]
  },
  {
   "cell_type": "code",
   "execution_count": 15,
   "id": "82f848c0",
   "metadata": {},
   "outputs": [],
   "source": [
    "class Net(nn.Module):\n",
    "    def __init__(self):\n",
    "        super().__init__()\n",
    "        self.conv1 = nn.Conv2d(3,6,5)\n",
    "        self.pool = nn.MaxPool2d(2,2)\n",
    "        self.conv2 = nn.Conv2d(6,16,5)\n",
    "        self.fc1 = nn.Linear(16*5*5, 120)\n",
    "        self.fc2 = nn.Linear(120, 84)\n",
    "        self.fc3 = nn.Linear(84,10)\n",
    "        \n",
    "    def forward(self, x):\n",
    "        x = self.pool(F.relu(self.conv1(x)))\n",
    "        x = self.pool(F.relu(self.conv2(x)))\n",
    "        x = torch.flatten(x,1)\n",
    "        x = F.relu(self.fc1(x))\n",
    "        x = F.relu(self.fc2(x))\n",
    "        x = self.fc3(x)\n",
    "        return x\n",
    "\n",
    "#기존에 1채널 이미지만 처리하도록 정의된 것을 3채널 이미지를 처리할 수 있도록 수정\n",
    "#pytorch의 nn.Module 클래스를 사용하여 신경망 아키텍처 정의\n",
    "#nn.Module - 신경망 모듈, 매개변수를 캡슐화하는 간편한 방법 -> gpu로 이동, 내보내기, 불러오기 등\n",
    "\n",
    "#self.conv1, self.conv2 : 신경망(Net)은 두 개의 컨볼루션 레이어\n",
    "#self.fc1, self.fc2 : 두 개의 완전히 연결된 레이어\n",
    "#self.fc3 : 입력을 매핑하는 최종 출력 레이어로 구성\n",
    "\n",
    "#init() : 계층을 만들고 초기화 하여 신경망의 아키텍처 정의\n",
    "#forward() : 입력 데이터가 출력을 생성하기 위해 레이어를 통해 흐르는 방식을 지정하여\n",
    "#신경망의 순방향 패스를 정의\n",
    "\n",
    "#self.conv1(첫 번째 컨볼루션 계층): 3개의 입력채널, 6개의 출력 채널 및 5*5의 커널 크기\n",
    "#MaxPool2d -> 커널 크기가 2*2인 최대 풀링 계층\n",
    "\n",
    "#self.conv2(두 번째 컨볼루션 계층): 6개의 입력 채널, 16개의 출력 채널 및 5*5의 커널 크기\n",
    "\n",
    "#self.fc1 및 self.fc2 -> 두번째 풀링 계층의 출력은 평면화되고 각각 120 및 84 출력 기능이 있는\n",
    "#두 개의 완전히 연결된 계층을 통과\n",
    "\n",
    "#최종 출력 레이어(self.fc3) -> cifar10 데이터셋의 10개 클래스에 해당하는 10개의 출력기능\n",
    "\n",
    "#forward : 신경망의 순방향 전달을 구현 -> 입력텐서 x를 가져와 다음 순서로 신경망의 레이어를 통과\n",
    "#컨볼루션 레이어1 -> 최대 풀링 레이어-> 컨볼루션 레이어2-> 최대 풀링 레이어-> 평탄화 ->\n",
    "#완전 연결 레이어1-> ReLU 활성화 함수-> 완전히 연결된 레이어2 -> ReLU 활성화 함수 -> 출력 레이어\n",
    "\n",
    "#최종 레이어의 출력은 순방향 패스의 출력으로 반환됨"
   ]
  },
  {
   "cell_type": "code",
   "execution_count": 16,
   "id": "2bd6ef0d",
   "metadata": {},
   "outputs": [],
   "source": [
    "net = Net()\n",
    "\n",
    "#cifar-10 데이터 셋에 대한 훈련을 위한 신경망 아키텍처를 나타냄\n",
    "#Net() 인스턴스를 생성하면 init 메서드에 정의된대로 적절한 매개변수를 사용해\n",
    "#신경망의 계층 초기화 -> 새로 생성된 신경망 훈련 또는 추론에 사용할 수 있음"
   ]
  },
  {
   "cell_type": "code",
   "execution_count": 17,
   "id": "a477cc6e",
   "metadata": {},
   "outputs": [],
   "source": [
    "import torch.optim as optim\n",
    "\n",
    "criterion = nn.CrossEntropyLoss()\n",
    "optimizer = optim.SGD(net.parameters(), lr=0.001, momentum=0.9)\n",
    "\n",
    "#신경망 훈련에 사용할 손실함수와 최적화 알고리즘 정의\n",
    "#nn.CrossEntropyLoss() -> 예측 레이블과 대상 레이블 간의 엔트로피 손실을 측정하는 기준을 만듬\n",
    "#이 손실 함수는 다중 클래스 분류 문제에서 일반적으로 사용\n",
    "#손실함수 : 얼마나 틀리는지를 알게 하는 함수 -> 최소값을 찾아가는 것이 최적화\n",
    "#현재 네트워크에서 나오는 결과값과 기대했던 결과값의 차이\n",
    "\n",
    "#optim.SGD() -> 모멘텀이 있는 확률적 경사하강법을 구현하는 옵티마이저 생성\n",
    "#신경망 매개변수(net.prarmeters()), 학습률(lr=0.001), 모멘텀(momentum=0.9)를 입력으로 사용\n",
    "#옵티마이저는 학습 중에 신경망의 매개변수를 업데이트 하기 위해\n",
    "#매개변수에 대한 손실 함수의 기울기를 사용\n",
    "#옵티마이저 : 손실함수의 최소값을 찾아가는 것을 수행하는 최적화 알고리즘\n",
    "#확률적 경사하강법: 훈련 셋에서 랜덤하게 하나의 샘플을 선택해 가파른 경사를 조금 내려간 후\n",
    "#훈련셋에서 랜덤하게 또 다른 샘플을 하나 선택해 경사를 조금 내려간다 -> 전체 샘플을 모두 사용하면\n",
    "#이 과정을 반복함\n",
    "#모멘텀: 경사하강법으로 이동할 때 관성을 부여하는 최적화 기법"
   ]
  },
  {
   "cell_type": "code",
   "execution_count": 18,
   "id": "fba765ca",
   "metadata": {},
   "outputs": [
    {
     "name": "stdout",
     "output_type": "stream",
     "text": [
      "[1,  2000] loss: 2.161\n",
      "[1,  4000] loss: 1.837\n",
      "[1,  6000] loss: 1.647\n",
      "[1,  8000] loss: 1.571\n",
      "[1, 10000] loss: 1.518\n",
      "[1, 12000] loss: 1.429\n",
      "[2,  2000] loss: 1.378\n",
      "[2,  4000] loss: 1.353\n",
      "[2,  6000] loss: 1.328\n",
      "[2,  8000] loss: 1.294\n",
      "[2, 10000] loss: 1.273\n",
      "[2, 12000] loss: 1.271\n",
      "Finished Training\n"
     ]
    }
   ],
   "source": [
    "for epoch in range(2):\n",
    "    running_loss = 0.0\n",
    "    for i, data in enumerate(trainloader, 0): #입력을 받는다\n",
    "        #데이터는 [입력, 레이블]목록\n",
    "        inputs, labels = data \n",
    "        #매개변수(변화도) 기울기를 0으로 만듬\n",
    "        optimizer.zero_grad()\n",
    "        #출력 = net(입력)\n",
    "        outputs = net(inputs)\n",
    "        #손실 = 기준(출력, 레이블) -> 순전파 + 역전파 + 최적화를 한 후\n",
    "        loss = criterion(outputs, labels)\n",
    "        loss.backward()\n",
    "        optimizer.step()\n",
    "        \n",
    "        #통계 출력\n",
    "        running_loss += loss.item()\n",
    "        if i % 2000 == 1999:\n",
    "            print(f'[{epoch + 1}, {i + 1:5d}] loss: {running_loss / 2000:.3f}')\n",
    "            running_loss = 0.0\n",
    "            \n",
    "print('Finished Training')\n",
    "\n",
    "#trainloader에 의해 정의된 훈련 데이터 세트의 미니 배치를 반복\n",
    "#enumerate() : 미니 배치를 반복하는데 사용\n",
    "#각 미니 배치에 대해 입력 데이터와 레이블이 데이터 변수에서 추출됨\n",
    "#신경망 매개변수의 변화도를 0으로 재설정하기 위해 zero_grad() 호출\n",
    "#pytorch가 기본적으로 그래디언트를 누적하므로 이전 미니 배치의 그래디언트가 현재 미니배치에서\n",
    "#사용되지 않도록 하기 때문에 필요\n",
    "#입력데이터는 신경망을 통해 공급되어 예측된 출력을 얻음\n",
    "#optimizer.step(): 이전에 지정된 계산된 기울기와 학습 속도 및 모멘텀을 기반으로\n",
    "#신경망의 매개변수를 업데이트\n",
    "\n",
    "#배치: 모델의 가중치를 한 번 업데이트시킬 때 사용되는 샘플들의 묶음을 의미\n",
    "#에포크: 학습의 횟수\n",
    "#미니배치: SGD와 배치를 섞은 것으로 전체 데이터를 N등분하여 각각의 학습 데이터를 배치 방식으로 학습"
   ]
  },
  {
   "cell_type": "code",
   "execution_count": 19,
   "id": "8a64011f",
   "metadata": {},
   "outputs": [],
   "source": [
    "PATH = './cifar_net.pth'\n",
    "torch.save(net.state_dict(), PATH)\n",
    "\n",
    "#훈련된 모델의 state_dict를 \"cifar_net.pth\"파일에 저장\n",
    "#새 데이터에 대한 예측을 위해 훈련된 모델을 사용하기 위해 나중에 이 파일을 로드할 수 있음"
   ]
  },
  {
   "cell_type": "code",
   "execution_count": 20,
   "id": "5ecda189",
   "metadata": {},
   "outputs": [],
   "source": [
    "dataiter = iter(testloader)\n",
    "images, labels = next(dataiter)\n",
    "\n",
    "#테스트 이미지와 해당 레이블 배치를 얻음\n",
    "#이 이미지는 학습된 모델의 성능을 평가하는데 사용"
   ]
  },
  {
   "cell_type": "code",
   "execution_count": 21,
   "id": "fc0e75f7",
   "metadata": {},
   "outputs": [
    {
     "data": {
      "image/png": "[encoded data removed]",
      "text/plain": [
       "<Figure size 640x480 with 1 Axes>"
      ]
     },
     "metadata": {},
     "output_type": "display_data"
    },
    {
     "name": "stdout",
     "output_type": "stream",
     "text": [
      "GroundTruth:  cat   ship  ship  plane\n"
     ]
    }
   ],
   "source": [
    "imshow(torchvision.utils.make_grid(images))\n",
    "print('GroundTruth: ', ' '.join(f'{classes[labels[j]]:5s}' for j in range(4)))\n",
    "\n",
    "#실측 레이블과 함께 테스트 이미지 표시"
   ]
  },
  {
   "cell_type": "code",
   "execution_count": 22,
   "id": "ec164ff1",
   "metadata": {},
   "outputs": [
    {
     "data": {
      "text/plain": [
       "<All keys matched successfully>"
      ]
     },
     "execution_count": 22,
     "metadata": {},
     "output_type": "execute_result"
    }
   ],
   "source": [
    "net = Net()\n",
    "net.load_state_dict(torch.load(PATH))\n",
    "\n",
    "#저장된 상태에서 훈련된 모델을 다시 로드함\n",
    "#이 모델을 사용하여 테스트 이미지를 예측할 수 있음"
   ]
  },
  {
   "cell_type": "code",
   "execution_count": 23,
   "id": "7e425b5d",
   "metadata": {},
   "outputs": [],
   "source": [
    "outputs = net(images)\n",
    "\n",
    "#로드된 모델을 통해 테스트 이미지를 통과해 예측을 얻음\n",
    "#출력 텐서는 10개 클래스 각각에 대한 예측 점수 포함\n",
    "#점수가 가장 높은 클래스가 해당 이미지에 대한 예측 클래스"
   ]
  },
  {
   "cell_type": "code",
   "execution_count": 24,
   "id": "d3b9ba92",
   "metadata": {},
   "outputs": [
    {
     "name": "stdout",
     "output_type": "stream",
     "text": [
      "Predicted:  cat   car   ship  ship \n"
     ]
    }
   ],
   "source": [
    "_, predicted = torch.max(outputs, 1)\n",
    "\n",
    "print('Predicted: ', ' '.join(f'{classes[predicted[j]]:5s}' for j in range(4)))\n",
    "\n",
    "#출력 텐서에서 최대값의 인덱스를 찾아 테스트 이미지에 대한 예측 클래스를 얻음\n",
    "#join을 사용하여 예측된 클래스의 이름을 문자열로 연결함"
   ]
  },
  {
   "cell_type": "code",
   "execution_count": 25,
   "id": "6ae246b0",
   "metadata": {},
   "outputs": [
    {
     "name": "stdout",
     "output_type": "stream",
     "text": [
      "Accuracy of the network on the 10000 test images: 54 %\n"
     ]
    }
   ],
   "source": [
    "correct = 0\n",
    "total = 0\n",
    "\n",
    "#학습 중이 아니므로, 출력에 대한 변화도를 계산할 필요 없음\n",
    "with torch.no_grad():\n",
    "    for data in testloader:\n",
    "        images, labels = data\n",
    "        #신경망에 이미지를 통과시켜 출력을 계산\n",
    "        outputs = net(images)\n",
    "        #가장 높은 값을 갖는 클래스를 정답으로 선택\n",
    "        _, predicted = torch.max(outputs.data, 1)\n",
    "        total += labels.size(0)\n",
    "        correct += (predicted == labels).sum().item()\n",
    "        \n",
    "print(f'Accuracy of the network on the 10000 test images: {100 * correct // total} %')\n",
    "\n",
    "#10000개의 테스트 이미지에 대한 네트워크의 정확도는 올바르게 분류된 이미지의 수를\n",
    "#테스트 셋의 총 이미지 수로 나누어 계산할 수 있음\n",
    "#테스트셋을 반복하면서 업데이트한 올바른 전체 변수를 사용할 수 있음"
   ]
  },
  {
   "cell_type": "code",
   "execution_count": 26,
   "id": "07637f21",
   "metadata": {},
   "outputs": [
    {
     "name": "stdout",
     "output_type": "stream",
     "text": [
      "Accuracy for class: plane is 45.6 %\n",
      "Accuracy for class: car   is 62.0 %\n",
      "Accuracy for class: bird  is 30.0 %\n",
      "Accuracy for class: cat   is 50.4 %\n",
      "Accuracy for class: deer  is 47.7 %\n",
      "Accuracy for class: dog   is 20.4 %\n",
      "Accuracy for class: frog  is 82.9 %\n",
      "Accuracy for class: horse is 57.9 %\n",
      "Accuracy for class: ship  is 78.7 %\n",
      "Accuracy for class: truck is 72.4 %\n"
     ]
    }
   ],
   "source": [
    "correct_pred = {classname: 0 for classname in classes}\n",
    "total_pred = {classname: 0 for classname in classes}\n",
    "#correct_pred: 각 클래스에 대한 올바른 예측 수\n",
    "#total_pred: 총 예측 수를 추적하는 데 사용\n",
    "\n",
    "with torch.no_grad():\n",
    "    for data in testloader:\n",
    "        images, labels = data\n",
    "        outputs = net(images)\n",
    "        _, predictions = torch.max(outputs, 1)\n",
    "        #각 클래스 별로 올바른 예측 수를 모음\n",
    "        for label, prediction in zip(labels, predictions):\n",
    "            if label == prediction:\n",
    "                correct_pred[classes[label]] += 1\n",
    "            total_pred[classes[label]] += 1\n",
    "#testloader를 통해 반복 및 각 레이블 및 예측 쌍에 대한 correct_pred 및 total_pred 사전 업데이트\n",
    "\n",
    "#각 분류별 정확도 출력\n",
    "for classname, correct_count in correct_pred.items():\n",
    "    accuracy = 100 * float(correct_count) / total_pred[classname]\n",
    "    print(f'Accuracy for class: {classname:5s} is {accuracy:.1f} %')"
   ]
  },
  {
   "cell_type": "code",
   "execution_count": 27,
   "id": "bd2d9812",
   "metadata": {},
   "outputs": [
    {
     "name": "stdout",
     "output_type": "stream",
     "text": [
      "cuda:0\n"
     ]
    }
   ],
   "source": [
    "device = torch.device('cuda:0' if torch.cuda.is_available() else 'cpu')\n",
    "\n",
    "print(device)\n",
    "\n",
    "#device -> gpu 사용 가능 여부 확인\n",
    "#딥러닝 모델 교육이 계산이 매우 많기 때문에 gpu를 사용하면 속도를 크게 높일 수 있으므로 유용"
   ]
  },
  {
   "cell_type": "code",
   "execution_count": 28,
   "id": "33a60bbd",
   "metadata": {},
   "outputs": [
    {
     "data": {
      "text/plain": [
       "Net(\n",
       "  (conv1): Conv2d(3, 6, kernel_size=(5, 5), stride=(1, 1))\n",
       "  (pool): MaxPool2d(kernel_size=2, stride=2, padding=0, dilation=1, ceil_mode=False)\n",
       "  (conv2): Conv2d(6, 16, kernel_size=(5, 5), stride=(1, 1))\n",
       "  (fc1): Linear(in_features=400, out_features=120, bias=True)\n",
       "  (fc2): Linear(in_features=120, out_features=84, bias=True)\n",
       "  (fc3): Linear(in_features=84, out_features=10, bias=True)\n",
       ")"
      ]
     },
     "execution_count": 28,
     "metadata": {},
     "output_type": "execute_result"
    }
   ],
   "source": [
    "net.to(device)\n",
    "\n",
    "#모델넷을 지정된 장치로 이동 -> gpu에서 처리해야 하는 대규모 모델 및 데이터 셋으로 작업할 때 유용"
   ]
  },
  {
   "cell_type": "code",
   "execution_count": 29,
   "id": "532fd82c",
   "metadata": {},
   "outputs": [],
   "source": [
    "inputs, labels = data[0].to(device), data[1].to(device)\n",
    "\n",
    "#gpu 사용 가능 여부에 따라 결정된 장치로 입력 및 레이블 텐서 이동"
   ]
  },
  {
   "cell_type": "code",
   "execution_count": 30,
   "id": "8b7b333f",
   "metadata": {},
   "outputs": [],
   "source": [
    "del dataiter"
   ]
  }
 ],
 "metadata": {
  "kernelspec": {
   "display_name": "Python 3 (ipykernel)",
   "language": "python",
   "name": "python3"
  },
  "language_info": {
   "codemirror_mode": {
    "name": "ipython",
    "version": 3
   },
   "file_extension": ".py",
   "mimetype": "text/x-python",
   "name": "python",
   "nbconvert_exporter": "python",
   "pygments_lexer": "ipython3",
   "version": "3.9.13"
  }
 },
 "nbformat": 4,
 "nbformat_minor": 5
}
